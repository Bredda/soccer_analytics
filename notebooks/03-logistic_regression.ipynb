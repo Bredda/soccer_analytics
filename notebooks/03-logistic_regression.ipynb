{
 "cells": [
  {
   "cell_type": "markdown",
   "metadata": {},
   "source": [
    "# Logistic Regression\n",
    "\n",
    "##### Predicting the outcome of a shot given its features\n",
    "\n",
    "---"
   ]
  },
  {
   "cell_type": "code",
   "execution_count": 1,
   "metadata": {},
   "outputs": [],
   "source": [
    "import requests\n",
    "import pandas as pd\n",
    "import numpy as np\n",
    "import matplotlib.pyplot as plt\n",
    "from tqdm import tqdm"
   ]
  },
  {
   "cell_type": "markdown",
   "metadata": {},
   "source": [
    "By now, you should be familiar with all of these libraries\n",
    "\n",
    "---"
   ]
  },
  {
   "cell_type": "code",
   "execution_count": 2,
   "metadata": {},
   "outputs": [],
   "source": [
    "base_url = \"https://raw.githubusercontent.com/statsbomb/open-data/master/data/\"\n",
    "comp_url = base_url + \"matches/{}/{}.json\"\n",
    "match_url = base_url + \"events/{}.json\""
   ]
  },
  {
   "cell_type": "code",
   "execution_count": 3,
   "metadata": {},
   "outputs": [],
   "source": [
    "def parse_data(competition_id, season_id):\n",
    "    matches = requests.get(url=comp_url.format(competition_id, season_id)).json()\n",
    "    match_ids = [m['match_id'] for m in matches]\n",
    "\n",
    "    all_events = []\n",
    "    for match_id in tqdm(match_ids):\n",
    "\n",
    "        events = requests.get(url=match_url.format(match_id)).json()\n",
    "        shots = [x for x in events if x['type']['name'] == \"Shot\"]\n",
    "                \n",
    "        for s in shots:\n",
    "            attributes = {\n",
    "                \"x\": s['location'][0],\n",
    "                \"y\": s['location'][1],\n",
    "                \"head\": 1 if s['shot']['body_part']['name'] == \"Head\" else 0,\n",
    "                \"phase\": s['shot']['type']['name'],\n",
    "                \"outcome\": 1 if s['shot']['outcome']['name'] == \"Goal\" else 0,\n",
    "                \"statsbomb_xg\": s['shot']['statsbomb_xg']\n",
    "            }\n",
    "            all_events.append(attributes)\n",
    "            \n",
    "    return pd.DataFrame(all_events)"
   ]
  },
  {
   "cell_type": "markdown",
   "metadata": {},
   "source": [
    "The `parse_data` function has been adjusted such that only shots are collected, and a bunch of new attributes are collected, including:\n",
    "- `x` - the x-coordinate of the shot\n",
    "    - ranges from `0 to 120`\n",
    "- `y` - the y-coordinate of the shot\n",
    "    - ranges from `0 to 80`\n",
    "- `head` - if the shot was attempted with the head\n",
    "- `phase` - what phase of play did the shot come from\n",
    "- `outcome` - did the shot result in a goal\n",
    "- `statsbomb_xg` - for comparison purposes at the end of the notebook\n",
    "\n",
    "---"
   ]
  },
  {
   "cell_type": "code",
   "execution_count": 4,
   "metadata": {},
   "outputs": [
    {
     "name": "stderr",
     "output_type": "stream",
     "text": [
      "100%|██████████| 64/64 [00:13<00:00,  4.80it/s]\n"
     ]
    }
   ],
   "source": [
    "competition_id = 43\n",
    "season_id = 3\n",
    "df = parse_data(competition_id, season_id)"
   ]
  },
  {
   "cell_type": "code",
   "execution_count": 5,
   "metadata": {},
   "outputs": [],
   "source": [
    "def distance_to_goal(origin):\n",
    "    dest = np.array([120., 40.])\n",
    "    return np.sqrt(np.sum((origin - dest) ** 2))"
   ]
  },
  {
   "cell_type": "markdown",
   "metadata": {},
   "source": [
    "The `distance_to_goal` function takes an x/y pair (e.g. `[x, y]`), and calculates how far from the center of the goal that location is.\n",
    "\n",
    "---"
   ]
  },
  {
   "cell_type": "code",
   "execution_count": 6,
   "metadata": {},
   "outputs": [],
   "source": [
    "def goal_angle(origin):\n",
    "    p0 = np.array((120., 36.))  # Left Post\n",
    "    p1 = np.array(origin, dtype=np.float)\n",
    "    p2 = np.array((120., 44.))  # Right Post\n",
    "\n",
    "    v0 = p0 - p1\n",
    "    v1 = p2 - p1\n",
    "\n",
    "    angle = np.abs(np.math.atan2(np.linalg.det([v0, v1]), np.dot(v0, v1)))\n",
    "    \n",
    "    return angle"
   ]
  },
  {
   "cell_type": "markdown",
   "metadata": {},
   "source": [
    "The `goal_angle` function (which returns radians) generates the angle of the goalmouth that is available to the shooter at the time of the shot.\n",
    "\n",
    "It also depends some vector mathematics, but essentially we return one of the interior angles between a triangle bounded by the origin and the coordinates of each goal post.\n",
    "\n",
    "---"
   ]
  },
  {
   "cell_type": "code",
   "execution_count": 7,
   "metadata": {},
   "outputs": [],
   "source": [
    "df['distance_to_goal'] = df.apply(lambda row: distance_to_goal(row[['x', 'y']]), axis=1)\n",
    "df['goal_angle'] = df.apply(lambda r: goal_angle(r[['x', 'y']]), axis=1)"
   ]
  },
  {
   "cell_type": "markdown",
   "metadata": {},
   "source": [
    "These operations add new columns (`distance_to_goal` and `goal_angle`) to every row in the `pandas` DataFrame using a technique called broadcasting, and it's efficent when dealing with very large amounts of data.\n",
    "\n",
    "It's worth digging into `lambda` functions as well. They're essentially anonymous functions that you can declare dynamically.\n",
    "\n",
    "In general, you should avoid looping over `pandas` DataFrames in favor of this sort of approach.\n",
    "\n",
    "---"
   ]
  },
  {
   "cell_type": "code",
   "execution_count": 8,
   "metadata": {},
   "outputs": [],
   "source": [
    "shots = df[~df['phase'].isin(['Free Kick', 'Penalty'])]"
   ]
  },
  {
   "cell_type": "markdown",
   "metadata": {},
   "source": [
    "This `pandas` operation filters the DataFrame by removing all rows that have `Free Kick` or `Penalty` as it's designated `phase`.\n",
    "\n",
    "We remove these samples before training because they will skew our results as most samples are taken from open play.\n",
    "\n",
    "---"
   ]
  },
  {
   "cell_type": "code",
   "execution_count": 9,
   "metadata": {},
   "outputs": [],
   "source": [
    "from sklearn.linear_model import LogisticRegression\n",
    "model = LogisticRegression()"
   ]
  },
  {
   "cell_type": "markdown",
   "metadata": {},
   "source": [
    "This time, we import `LogisticRegression` from `sklearn.linear_model` and create an object of it.\n",
    "\n",
    "---"
   ]
  },
  {
   "cell_type": "code",
   "execution_count": 10,
   "metadata": {},
   "outputs": [],
   "source": [
    "features = shots[['distance_to_goal', 'goal_angle', 'head']]\n",
    "labels = shots['outcome']\n",
    "\n",
    "fit = model.fit(features, labels)"
   ]
  },
  {
   "cell_type": "markdown",
   "metadata": {},
   "source": [
    "We slice the `shots` DataFrame into two new DataFrames that represent the model **features** (the attributes we think are important) and the model **labels** (what we're trying to predict).\n",
    "\n",
    "Then we fit the model using `.fit(features, labels)`\n",
    "\n",
    "You can obtain the residuals of this model by inspecting the `fit` variable.\n",
    "\n",
    "> **Note**: In a real-word setting, we would want to normalize some of our continuous features (like `distance_to_goal` and `goal_angle`) that are not normally distributed. The model that we're fitting to the data applies linear weights to each variable, meaning that each feature can only have a linear effect on the outcome. This is bad because we know there is a small difference between a shot 30 vs. 35 meters from goal, and a big difference between a shot 5 vs. 10 yards from meters (despite there being just a 5 meter difference between both examples). The properties of the model, as currently configured, can't make this sort of distinction.\n",
    ">\n",
    "> `sklearn` has a nice [`preprocessing`](https://scikit-learn.org/stable/modules/preprocessing.html) package that can handle some of this for you.\n",
    "\n",
    "---"
   ]
  },
  {
   "cell_type": "code",
   "execution_count": 11,
   "metadata": {},
   "outputs": [],
   "source": [
    "predictions = model.predict_proba(features)[:, 1]"
   ]
  },
  {
   "cell_type": "markdown",
   "metadata": {},
   "source": [
    "The `model.predict_proba()` method calculates label predictions of the list of samples that you feed into it.\n",
    "\n",
    "> *Note*: In this example, we're feeding the original list of samples that we trained on, which is generally a bad thing, but this is just a toy model.\n",
    ">\n",
    "> In a real-world setting, we would want to split our samples into a training and a validation data sets to help us avoid over-fitting.\n",
    "\n",
    "---"
   ]
  },
  {
   "cell_type": "code",
   "execution_count": 12,
   "metadata": {},
   "outputs": [
    {
     "data": {
      "image/png": "[encoded data removed]",
      "text/plain": [
       "<Figure size 432x288 with 1 Axes>"
      ]
     },
     "metadata": {
      "needs_background": "light"
     },
     "output_type": "display_data"
    }
   ],
   "source": [
    "plt.plot(sorted(predictions))\n",
    "plt.show()"
   ]
  },
  {
   "cell_type": "markdown",
   "metadata": {},
   "source": [
    "We sort the predictions, and plot them.\n",
    "\n",
    "As expected, we predict that most shots are quite unlikely to result in a goal, with only a narrow range of opportunities having a goal probability of greater than `0.5 or 50%`.\n",
    "\n",
    "---"
   ]
  },
  {
   "cell_type": "code",
   "execution_count": 13,
   "metadata": {},
   "outputs": [
    {
     "data": {
      "image/png": "[encoded data removed]",
      "text/plain": [
       "<Figure size 432x288 with 1 Axes>"
      ]
     },
     "metadata": {
      "needs_background": "light"
     },
     "output_type": "display_data"
    }
   ],
   "source": [
    "plt.plot(sorted(shots['statsbomb_xg']))\n",
    "plt.show()"
   ]
  },
  {
   "cell_type": "markdown",
   "metadata": {},
   "source": [
    "For the sake of comparison, this looks quite a lot like the distribution of StatsBomb's goal expectation estimates. It's possible to make a pretty reasonable goal probability model with pretty basic features and minimal samples size."
   ]
  },
  {
   "cell_type": "markdown",
   "metadata": {},
   "source": [
    "---\n",
    "\n",
    "Devin Pleuler 2020"
   ]
  }
 ],
 "metadata": {
  "kernelspec": {
   "display_name": "Python 3",
   "language": "python",
   "name": "python3"
  },
  "language_info": {
   "codemirror_mode": {
    "name": "ipython",
    "version": 3
   },
   "file_extension": ".py",
   "mimetype": "text/x-python",
   "name": "python",
   "nbconvert_exporter": "python",
   "pygments_lexer": "ipython3",
   "version": "3.7.6"
  }
 },
 "nbformat": 4,
 "nbformat_minor": 4
}
