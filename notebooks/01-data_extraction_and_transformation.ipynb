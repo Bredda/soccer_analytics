{
 "cells": [
  {
   "cell_type": "markdown",
   "metadata": {},
   "source": [
    "# Data Extraction & Transformation\n",
    "\n",
    "##### Parsing raw StatsBomb data and storing it in a Pandas DataFrame\n",
    "\n",
    "---"
   ]
  },
  {
   "cell_type": "code",
   "execution_count": 1,
   "metadata": {},
   "outputs": [],
   "source": [
    "import requests\n",
    "import pandas as pd\n",
    "from tqdm import tqdm"
   ]
  },
  {
   "cell_type": "markdown",
   "metadata": {},
   "source": [
    "- `requests` is a great library for executing HTTP requests\n",
    "- `pandas` is a data analysis and manipulation package\n",
    "- `tqdm` is a clean progress bar library\n",
    "\n",
    "---"
   ]
  },
  {
   "cell_type": "code",
   "execution_count": 2,
   "metadata": {},
   "outputs": [],
   "source": [
    "base_url = \"https://raw.githubusercontent.com/statsbomb/open-data/master/data/\"\n",
    "comp_url = base_url + \"matches/{}/{}.json\"\n",
    "match_url = base_url + \"events/{}.json\""
   ]
  },
  {
   "cell_type": "markdown",
   "metadata": {},
   "source": [
    "These URLs are the locations where the raw StatsBomb data lives. Notice the `{}` in there, which are dynamically replaced with IDs with `.format()`\n",
    "\n",
    "___"
   ]
  },
  {
   "cell_type": "code",
   "execution_count": 3,
   "metadata": {},
   "outputs": [],
   "source": [
    "def parse_data(competition_id, season_id):\n",
    "    matches = requests.get(url=comp_url.format(competition_id, season_id)).json()\n",
    "    match_ids = [m['match_id'] for m in matches]\n",
    "\n",
    "    all_events = []\n",
    "    for match_id in tqdm(match_ids):\n",
    "\n",
    "        events = requests.get(url=match_url.format(match_id)).json()\n",
    "\n",
    "        shots = [x for x in events if x['type']['name'] == \"Shot\"]\n",
    "        for s in shots:\n",
    "            attributes = {\n",
    "                \"match_id\": match_id,\n",
    "                \"team\": s[\"possession_team\"][\"name\"],\n",
    "                \"player\": s['player']['name'],\n",
    "                \"x\": s['location'][0],\n",
    "                \"y\": s['location'][1],\n",
    "                \"outcome\": s['shot']['outcome']['name'],\n",
    "            }\n",
    "            all_events.append(attributes)\n",
    "            \n",
    "    return pd.DataFrame(all_events)"
   ]
  },
  {
   "cell_type": "markdown",
   "metadata": {},
   "source": [
    "The `parse_data` function handles the full Extract & Transform process.\n",
    "\n",
    "The sequence of events is this:\n",
    "1. The list of matches is loaded into the `matches` list.\n",
    "2. Match IDs are extracted into a separate list using a list comprehension on `matches`.\n",
    "3. Iterate over Match ID's, and load each match's raw data into the `events` list.\n",
    "4. Shots are extracted into a separate list using a list comprehension as a filter on `events`.\n",
    "5. Iterate over shots and extract individual features and store them in the `attributes` dictionary.\n",
    "6. Append each shot's `attributes` into the `all_events` list.\n",
    "7. Return a Pandas DataFrame from the `all_events` list.\n",
    "\n",
    "---"
   ]
  },
  {
   "cell_type": "code",
   "execution_count": 4,
   "metadata": {},
   "outputs": [],
   "source": [
    "competition_id = 43\n",
    "season_id = 3"
   ]
  },
  {
   "cell_type": "markdown",
   "metadata": {},
   "source": [
    "- `competition_id = 43` - StatsBomb's Competition ID for the World Cup\n",
    "- `season_id = 3` - StatsBomb's Season ID for the 2018 Season"
   ]
  },
  {
   "cell_type": "code",
   "execution_count": 5,
   "metadata": {},
   "outputs": [
    {
     "name": "stderr",
     "output_type": "stream",
     "text": [
      "100%|██████████| 64/64 [00:13<00:00,  4.86it/s]\n"
     ]
    }
   ],
   "source": [
    "df = parse_data(competition_id, season_id)"
   ]
  },
  {
   "cell_type": "markdown",
   "metadata": {},
   "source": [
    "The `parse_data` function is executed, and it's output is placed in variable `df`\n",
    "\n",
    "The progress bar is produced by `tqdm`\n",
    "\n",
    "---"
   ]
  },
  {
   "cell_type": "code",
   "execution_count": 6,
   "metadata": {},
   "outputs": [
    {
     "data": {
      "text/html": [
       "<div>\n",
       "<style scoped>\n",
       "    .dataframe tbody tr th:only-of-type {\n",
       "        vertical-align: middle;\n",
       "    }\n",
       "\n",
       "    .dataframe tbody tr th {\n",
       "        vertical-align: top;\n",
       "    }\n",
       "\n",
       "    .dataframe thead th {\n",
       "        text-align: right;\n",
       "    }\n",
       "</style>\n",
       "<table border=\"1\" class=\"dataframe\">\n",
       "  <thead>\n",
       "    <tr style=\"text-align: right;\">\n",
       "      <th></th>\n",
       "      <th>match_id</th>\n",
       "      <th>team</th>\n",
       "      <th>player</th>\n",
       "      <th>x</th>\n",
       "      <th>y</th>\n",
       "      <th>outcome</th>\n",
       "    </tr>\n",
       "  </thead>\n",
       "  <tbody>\n",
       "    <tr>\n",
       "      <th>0</th>\n",
       "      <td>7562</td>\n",
       "      <td>Australia</td>\n",
       "      <td>Mile Jedinak</td>\n",
       "      <td>97.0</td>\n",
       "      <td>53.0</td>\n",
       "      <td>Off T</td>\n",
       "    </tr>\n",
       "    <tr>\n",
       "      <th>1</th>\n",
       "      <td>7562</td>\n",
       "      <td>Australia</td>\n",
       "      <td>Tom Rogić</td>\n",
       "      <td>95.0</td>\n",
       "      <td>46.0</td>\n",
       "      <td>Blocked</td>\n",
       "    </tr>\n",
       "    <tr>\n",
       "      <th>2</th>\n",
       "      <td>7562</td>\n",
       "      <td>Peru</td>\n",
       "      <td>André Martín Carrillo Díaz</td>\n",
       "      <td>104.0</td>\n",
       "      <td>53.0</td>\n",
       "      <td>Goal</td>\n",
       "    </tr>\n",
       "    <tr>\n",
       "      <th>3</th>\n",
       "      <td>7562</td>\n",
       "      <td>Australia</td>\n",
       "      <td>Mathew Leckie</td>\n",
       "      <td>112.0</td>\n",
       "      <td>42.0</td>\n",
       "      <td>Wayward</td>\n",
       "    </tr>\n",
       "    <tr>\n",
       "      <th>4</th>\n",
       "      <td>7562</td>\n",
       "      <td>Peru</td>\n",
       "      <td>José Paolo Guerrero González</td>\n",
       "      <td>109.0</td>\n",
       "      <td>37.0</td>\n",
       "      <td>Saved</td>\n",
       "    </tr>\n",
       "    <tr>\n",
       "      <th>5</th>\n",
       "      <td>7562</td>\n",
       "      <td>Australia</td>\n",
       "      <td>Tom Rogić</td>\n",
       "      <td>105.0</td>\n",
       "      <td>40.0</td>\n",
       "      <td>Saved</td>\n",
       "    </tr>\n",
       "    <tr>\n",
       "      <th>6</th>\n",
       "      <td>7562</td>\n",
       "      <td>Peru</td>\n",
       "      <td>Víctor Yoshimar Yotún Flores</td>\n",
       "      <td>83.0</td>\n",
       "      <td>33.0</td>\n",
       "      <td>Off T</td>\n",
       "    </tr>\n",
       "    <tr>\n",
       "      <th>7</th>\n",
       "      <td>7562</td>\n",
       "      <td>Australia</td>\n",
       "      <td>Trent Sainsbury</td>\n",
       "      <td>116.0</td>\n",
       "      <td>43.0</td>\n",
       "      <td>Off T</td>\n",
       "    </tr>\n",
       "    <tr>\n",
       "      <th>8</th>\n",
       "      <td>7562</td>\n",
       "      <td>Australia</td>\n",
       "      <td>Trent Sainsbury</td>\n",
       "      <td>115.0</td>\n",
       "      <td>34.0</td>\n",
       "      <td>Off T</td>\n",
       "    </tr>\n",
       "    <tr>\n",
       "      <th>9</th>\n",
       "      <td>7562</td>\n",
       "      <td>Peru</td>\n",
       "      <td>José Paolo Guerrero González</td>\n",
       "      <td>111.0</td>\n",
       "      <td>36.0</td>\n",
       "      <td>Goal</td>\n",
       "    </tr>\n",
       "  </tbody>\n",
       "</table>\n",
       "</div>"
      ],
      "text/plain": [
       "   match_id       team                        player      x     y  outcome\n",
       "0      7562  Australia                  Mile Jedinak   97.0  53.0    Off T\n",
       "1      7562  Australia                     Tom Rogić   95.0  46.0  Blocked\n",
       "2      7562       Peru    André Martín Carrillo Díaz  104.0  53.0     Goal\n",
       "3      7562  Australia                 Mathew Leckie  112.0  42.0  Wayward\n",
       "4      7562       Peru  José Paolo Guerrero González  109.0  37.0    Saved\n",
       "5      7562  Australia                     Tom Rogić  105.0  40.0    Saved\n",
       "6      7562       Peru  Víctor Yoshimar Yotún Flores   83.0  33.0    Off T\n",
       "7      7562  Australia               Trent Sainsbury  116.0  43.0    Off T\n",
       "8      7562  Australia               Trent Sainsbury  115.0  34.0    Off T\n",
       "9      7562       Peru  José Paolo Guerrero González  111.0  36.0     Goal"
      ]
     },
     "execution_count": 6,
     "metadata": {},
     "output_type": "execute_result"
    }
   ],
   "source": [
    "df.head(10)"
   ]
  },
  {
   "cell_type": "markdown",
   "metadata": {},
   "source": [
    "The `.head(10)` method on a DataFrame object shows you the first 10 records in the DataFrame.\n",
    "\n",
    "There are roughly `1700` shots in this DataFrame, which represent every shot attempted at the 2018 Men's World Cup."
   ]
  },
  {
   "cell_type": "markdown",
   "metadata": {},
   "source": [
    "---\n",
    "\n",
    "Devin Pleuler 2020"
   ]
  }
 ],
 "metadata": {
  "kernelspec": {
   "display_name": "Python 3",
   "language": "python",
   "name": "python3"
  },
  "language_info": {
   "codemirror_mode": {
    "name": "ipython",
    "version": 3
   },
   "file_extension": ".py",
   "mimetype": "text/x-python",
   "name": "python",
   "nbconvert_exporter": "python",
   "pygments_lexer": "ipython3",
   "version": "3.7.6"
  }
 },
 "nbformat": 4,
 "nbformat_minor": 4
}
